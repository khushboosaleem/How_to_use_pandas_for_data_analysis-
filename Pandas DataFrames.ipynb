{
 "cells": [
  {
   "cell_type": "markdown",
   "id": "5514405f-2bc4-43b3-970b-1c2c0af6c1a3",
   "metadata": {},
   "source": [
    "## What is a DataFrame?\n",
    "A Pandas DataFrame is a 2 dimensional data structure, like a 2 dimensional array, or a table with rows and columns."
   ]
  },
  {
   "cell_type": "code",
   "execution_count": 8,
   "id": "b8491ac8-1a7e-4f14-a231-e6a1f32df804",
   "metadata": {},
   "outputs": [
    {
     "data": {
      "text/html": [
       "<div>\n",
       "<style scoped>\n",
       "    .dataframe tbody tr th:only-of-type {\n",
       "        vertical-align: middle;\n",
       "    }\n",
       "\n",
       "    .dataframe tbody tr th {\n",
       "        vertical-align: top;\n",
       "    }\n",
       "\n",
       "    .dataframe thead th {\n",
       "        text-align: right;\n",
       "    }\n",
       "</style>\n",
       "<table border=\"1\" class=\"dataframe\">\n",
       "  <thead>\n",
       "    <tr style=\"text-align: right;\">\n",
       "      <th></th>\n",
       "      <th>exercise_type</th>\n",
       "      <th>duration_minutes</th>\n",
       "      <th>calories_burned</th>\n",
       "    </tr>\n",
       "  </thead>\n",
       "  <tbody>\n",
       "    <tr>\n",
       "      <th>0</th>\n",
       "      <td>Running</td>\n",
       "      <td>30</td>\n",
       "      <td>300</td>\n",
       "    </tr>\n",
       "    <tr>\n",
       "      <th>1</th>\n",
       "      <td>Cycling</td>\n",
       "      <td>45</td>\n",
       "      <td>400</td>\n",
       "    </tr>\n",
       "    <tr>\n",
       "      <th>2</th>\n",
       "      <td>Swimming</td>\n",
       "      <td>40</td>\n",
       "      <td>350</td>\n",
       "    </tr>\n",
       "  </tbody>\n",
       "</table>\n",
       "</div>"
      ],
      "text/plain": [
       "  exercise_type  duration_minutes  calories_burned\n",
       "0       Running                30              300\n",
       "1       Cycling                45              400\n",
       "2      Swimming                40              350"
      ]
     },
     "execution_count": 8,
     "metadata": {},
     "output_type": "execute_result"
    }
   ],
   "source": [
    "import pandas as pd\n",
    "\n",
    "# Data with exercise-related details\n",
    "data = {\n",
    "  \"exercise_type\": [\"Running\", \"Cycling\", \"Swimming\"],\n",
    "  \"duration_minutes\": [30, 45, 40],\n",
    "  \"calories_burned\": [300, 400, 350]\n",
    "}\n",
    "# Load data into a DataFrame object\n",
    "df = pd.DataFrame(data)\n",
    "\n",
    "# Display the DataFrame\n",
    "df"
   ]
  },
  {
   "cell_type": "markdown",
   "id": "841d923e-ffc3-4066-bbf1-73f42ddc1c27",
   "metadata": {},
   "source": [
    "## Locate Row\n",
    "As you can see from the result above, the DataFrame is like a table with rows and columns.\n",
    "\n",
    "Pandas use the `loc` attribute to return one or more specified row(s)"
   ]
  },
  {
   "cell_type": "markdown",
   "id": "4d0e020b-10fa-4148-ac62-9a8b75904246",
   "metadata": {},
   "source": [
    "**Return row 0**"
   ]
  },
  {
   "cell_type": "code",
   "execution_count": 18,
   "id": "2f9cd2c6-9a33-4769-9f91-5711d02b1638",
   "metadata": {},
   "outputs": [
    {
     "name": "stdout",
     "output_type": "stream",
     "text": [
      "exercise_type       Running\n",
      "duration_minutes         30\n",
      "calories_burned         300\n",
      "Name: 0, dtype: object\n"
     ]
    }
   ],
   "source": [
    "#refer to the row index:\n",
    "print(df.loc[0])"
   ]
  },
  {
   "cell_type": "markdown",
   "id": "7ec68229-20e5-42d5-ad2c-3c00f4facfc4",
   "metadata": {},
   "source": [
    "**Return row 0 and 1**"
   ]
  },
  {
   "cell_type": "code",
   "execution_count": 23,
   "id": "5baa1bf8-1bc6-4943-b704-43bb2be5b3cd",
   "metadata": {},
   "outputs": [
    {
     "name": "stdout",
     "output_type": "stream",
     "text": [
      "  exercise_type  duration_minutes  calories_burned\n",
      "0       Running                30              300\n",
      "1       Cycling                45              400\n"
     ]
    }
   ],
   "source": [
    "print(df.loc[[0,1]])"
   ]
  },
  {
   "cell_type": "markdown",
   "id": "9468da9c-29aa-4706-8428-7c582c68feb0",
   "metadata": {},
   "source": [
    "## Named Indexes\n",
    "With the `index` argument, you can name your own indexes."
   ]
  },
  {
   "cell_type": "code",
   "execution_count": 26,
   "id": "06b7671e-5d40-4421-ba2f-c572bfc2dff6",
   "metadata": {},
   "outputs": [
    {
     "data": {
      "text/html": [
       "<div>\n",
       "<style scoped>\n",
       "    .dataframe tbody tr th:only-of-type {\n",
       "        vertical-align: middle;\n",
       "    }\n",
       "\n",
       "    .dataframe tbody tr th {\n",
       "        vertical-align: top;\n",
       "    }\n",
       "\n",
       "    .dataframe thead th {\n",
       "        text-align: right;\n",
       "    }\n",
       "</style>\n",
       "<table border=\"1\" class=\"dataframe\">\n",
       "  <thead>\n",
       "    <tr style=\"text-align: right;\">\n",
       "      <th></th>\n",
       "      <th>exercise_type</th>\n",
       "      <th>duration_minutes</th>\n",
       "      <th>calories_burned</th>\n",
       "    </tr>\n",
       "  </thead>\n",
       "  <tbody>\n",
       "    <tr>\n",
       "      <th>day1</th>\n",
       "      <td>Running</td>\n",
       "      <td>30</td>\n",
       "      <td>300</td>\n",
       "    </tr>\n",
       "    <tr>\n",
       "      <th>day2</th>\n",
       "      <td>Cycling</td>\n",
       "      <td>45</td>\n",
       "      <td>400</td>\n",
       "    </tr>\n",
       "    <tr>\n",
       "      <th>day3</th>\n",
       "      <td>Swimming</td>\n",
       "      <td>40</td>\n",
       "      <td>350</td>\n",
       "    </tr>\n",
       "  </tbody>\n",
       "</table>\n",
       "</div>"
      ],
      "text/plain": [
       "     exercise_type  duration_minutes  calories_burned\n",
       "day1       Running                30              300\n",
       "day2       Cycling                45              400\n",
       "day3      Swimming                40              350"
      ]
     },
     "execution_count": 26,
     "metadata": {},
     "output_type": "execute_result"
    }
   ],
   "source": [
    "import pandas as pd\n",
    "\n",
    "# Data with exercise-related details\n",
    "data = {\n",
    "  \"exercise_type\": [\"Running\", \"Cycling\", \"Swimming\"],\n",
    "  \"duration_minutes\": [30, 45, 40],\n",
    "  \"calories_burned\": [300, 400, 350]\n",
    "}\n",
    "# Load data into a DataFrame object\n",
    "df = pd.DataFrame(data, index=['day1','day2','day3'])\n",
    "\n",
    "# Display the DataFrame\n",
    "df"
   ]
  },
  {
   "cell_type": "code",
   "execution_count": 28,
   "id": "aae21ec6-712b-4018-9ee5-87e18496634a",
   "metadata": {},
   "outputs": [
    {
     "data": {
      "text/plain": [
       "exercise_type       Running\n",
       "duration_minutes         30\n",
       "calories_burned         300\n",
       "Name: day1, dtype: object"
      ]
     },
     "execution_count": 28,
     "metadata": {},
     "output_type": "execute_result"
    }
   ],
   "source": [
    "# loc label based indexing\n",
    "df.loc['day1']"
   ]
  },
  {
   "cell_type": "code",
   "execution_count": 34,
   "id": "a51a5ae1-cef0-4767-907f-fe39ab2b28d9",
   "metadata": {},
   "outputs": [
    {
     "data": {
      "text/plain": [
       "30"
      ]
     },
     "execution_count": 34,
     "metadata": {},
     "output_type": "execute_result"
    }
   ],
   "source": [
    "df.loc['day1','duration_minutes']"
   ]
  },
  {
   "cell_type": "code",
   "execution_count": 38,
   "id": "3dc62514-8b2d-48ae-ae22-4c4c9a55be62",
   "metadata": {},
   "outputs": [
    {
     "data": {
      "text/plain": [
       "exercise_type       Running\n",
       "duration_minutes         30\n",
       "calories_burned         300\n",
       "Name: day1, dtype: object"
      ]
     },
     "execution_count": 38,
     "metadata": {},
     "output_type": "execute_result"
    }
   ],
   "source": [
    "# iloc integer based indexing\n",
    "df.iloc[0]"
   ]
  },
  {
   "cell_type": "code",
   "execution_count": 40,
   "id": "9eaaa493-6cde-45c7-a234-220e1e8232e0",
   "metadata": {},
   "outputs": [
    {
     "data": {
      "text/plain": [
       "30"
      ]
     },
     "execution_count": 40,
     "metadata": {},
     "output_type": "execute_result"
    }
   ],
   "source": [
    "df.iloc[0,1]"
   ]
  }
 ],
 "metadata": {
  "kernelspec": {
   "display_name": "Python 3 (ipykernel)",
   "language": "python",
   "name": "python3"
  },
  "language_info": {
   "codemirror_mode": {
    "name": "ipython",
    "version": 3
   },
   "file_extension": ".py",
   "mimetype": "text/x-python",
   "name": "python",
   "nbconvert_exporter": "python",
   "pygments_lexer": "ipython3",
   "version": "3.12.4"
  }
 },
 "nbformat": 4,
 "nbformat_minor": 5
}
