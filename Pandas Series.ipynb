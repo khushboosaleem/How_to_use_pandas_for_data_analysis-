{
 "cells": [
  {
   "cell_type": "markdown",
   "id": "141a0cf8-328b-4c67-ba41-131cec85eed2",
   "metadata": {},
   "source": [
    "## What is a Series?\n",
    "A Pandas Series is like a column in a table.\n",
    "\n",
    "It is a one-dimensional array holding data of any type."
   ]
  },
  {
   "cell_type": "code",
   "execution_count": 2,
   "id": "85477247-d114-439f-be1b-f1c67c6c3eef",
   "metadata": {},
   "outputs": [],
   "source": [
    "import pandas as pd"
   ]
  },
  {
   "cell_type": "code",
   "execution_count": 6,
   "id": "07d83c69-c93a-4493-aa9e-cf9ab4fe14ae",
   "metadata": {},
   "outputs": [
    {
     "name": "stdout",
     "output_type": "stream",
     "text": [
      "0    1\n",
      "1    2\n",
      "2    3\n",
      "3    4\n",
      "dtype: int64\n"
     ]
    }
   ],
   "source": [
    "a = [1,2,3,4]\n",
    "series = pd.Series(a)\n",
    "print(series)"
   ]
  },
  {
   "cell_type": "code",
   "execution_count": 8,
   "id": "721843c0-acde-4c59-93e6-e81cda581bd8",
   "metadata": {},
   "outputs": [
    {
     "data": {
      "text/plain": [
       "pandas.core.series.Series"
      ]
     },
     "execution_count": 8,
     "metadata": {},
     "output_type": "execute_result"
    }
   ],
   "source": [
    "type(series)"
   ]
  },
  {
   "cell_type": "markdown",
   "id": "9843eddc-8f5e-441a-b837-fd3cec984fed",
   "metadata": {},
   "source": [
    "### Labels\n",
    "If nothing else is specified, the values are labeled with their index number. First value has index 0, second value has index 1 etc.\n",
    "\n",
    "This label can be used to access a specified value."
   ]
  },
  {
   "cell_type": "code",
   "execution_count": 11,
   "id": "fb0c5b11-bcea-4b7b-8649-94872d8f83b4",
   "metadata": {},
   "outputs": [
    {
     "data": {
      "text/plain": [
       "1"
      ]
     },
     "execution_count": 11,
     "metadata": {},
     "output_type": "execute_result"
    }
   ],
   "source": [
    "# Return the first value of series\n",
    "series[0]"
   ]
  },
  {
   "cell_type": "code",
   "execution_count": 15,
   "id": "1bce4c5f-6d43-4b8e-bc16-ab16f7c61463",
   "metadata": {},
   "outputs": [
    {
     "data": {
      "text/plain": [
       "4"
      ]
     },
     "execution_count": 15,
     "metadata": {},
     "output_type": "execute_result"
    }
   ],
   "source": [
    "# Return the thrid value of series\n",
    "series[3]"
   ]
  },
  {
   "cell_type": "markdown",
   "id": "717b8c4c-02ab-461a-bfb8-e3c5735be6a1",
   "metadata": {},
   "source": [
    "### Create Labels\n",
    "With the index argument, you can name your own labels."
   ]
  },
  {
   "cell_type": "code",
   "execution_count": 20,
   "id": "f04eb149-a575-4a5a-82fa-c0b1dfb07add",
   "metadata": {},
   "outputs": [
    {
     "name": "stdout",
     "output_type": "stream",
     "text": [
      "a    1\n",
      "b    2\n",
      "c    3\n",
      "d    4\n",
      "dtype: int64\n"
     ]
    }
   ],
   "source": [
    "a = [1,2,3,4]\n",
    "series = pd.Series(a, index = ['a','b','c','d'])\n",
    "print(series)"
   ]
  },
  {
   "cell_type": "code",
   "execution_count": 22,
   "id": "cab9a3f2-ac9e-4b7a-ada9-91cebed02f5e",
   "metadata": {},
   "outputs": [
    {
     "data": {
      "text/plain": [
       "1"
      ]
     },
     "execution_count": 22,
     "metadata": {},
     "output_type": "execute_result"
    }
   ],
   "source": [
    "# Return the value of a\n",
    "series['a']"
   ]
  },
  {
   "cell_type": "markdown",
   "id": "fa72c541-1780-41d5-8743-5ca2e1163687",
   "metadata": {},
   "source": [
    "**Create a simple Pandas Series from a dictionary**"
   ]
  },
  {
   "cell_type": "code",
   "execution_count": 27,
   "id": "1aab5110-10a3-41a4-bce0-e8eec84e621d",
   "metadata": {},
   "outputs": [
    {
     "data": {
      "text/plain": [
       "day1     32000\n",
       "day2    360000\n",
       "day3     45000\n",
       "dtype: int64"
      ]
     },
     "execution_count": 27,
     "metadata": {},
     "output_type": "execute_result"
    }
   ],
   "source": [
    "sales = {'day1':32000,'day2':360000,'day3':45000}\n",
    "store_sale = pd.Series(sales)\n",
    "store_sale"
   ]
  },
  {
   "cell_type": "markdown",
   "id": "30f88d67-4697-470b-a239-65fc573a13f0",
   "metadata": {},
   "source": [
    "**Create a Series using only data from \"day1\" and \"day2\"**"
   ]
  },
  {
   "cell_type": "code",
   "execution_count": 30,
   "id": "dc868fb2-4b1e-4a6d-bca6-264bfae55fef",
   "metadata": {},
   "outputs": [
    {
     "data": {
      "text/plain": [
       "day1     32000\n",
       "day2    360000\n",
       "dtype: int64"
      ]
     },
     "execution_count": 30,
     "metadata": {},
     "output_type": "execute_result"
    }
   ],
   "source": [
    "sales = {'day1':32000,'day2':360000,'day3':45000}\n",
    "store_sale = pd.Series(sales , index = ['day1','day2'])\n",
    "store_sale"
   ]
  }
 ],
 "metadata": {
  "kernelspec": {
   "display_name": "Python 3 (ipykernel)",
   "language": "python",
   "name": "python3"
  },
  "language_info": {
   "codemirror_mode": {
    "name": "ipython",
    "version": 3
   },
   "file_extension": ".py",
   "mimetype": "text/x-python",
   "name": "python",
   "nbconvert_exporter": "python",
   "pygments_lexer": "ipython3",
   "version": "3.12.4"
  }
 },
 "nbformat": 4,
 "nbformat_minor": 5
}
